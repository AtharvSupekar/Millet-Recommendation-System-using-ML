{
 "cells": [
  {
   "cell_type": "code",
   "execution_count": 1,
   "id": "b85703ed-d59f-40f1-a578-1254b5cf8483",
   "metadata": {},
   "outputs": [
    {
     "name": "stdout",
     "output_type": "stream",
     "text": [
      "Accuracy of the RFC model: 1.00\n",
      "Accuracy of the RFC model: 1.00\n"
     ]
    },
    {
     "name": "stdin",
     "output_type": "stream",
     "text": [
      "Enter Protein intake in grams:  12.5\n",
      "Enter Carbs intake in grams:  70.2\n",
      "Enter Fat intake in grams:  1.1\n",
      "Enter Minerals intake in grams:  1.9\n",
      "Enter Fiber intake in grams:  5.2\n",
      "Enter Calcium intake in mg:  8\n",
      "Enter Phosphorus intake in mg:  206\n",
      "Enter Iron intake in g:  2.9\n",
      "Enter Energy intake in kcal:  354\n",
      "Enter Thiamin intake in mg:  0.41\n",
      "Enter Niacin intake in mg:  4.5\n"
     ]
    },
    {
     "name": "stdout",
     "output_type": "stream",
     "text": [
      "The predicted crop based on the input is: Proso\n",
      "Top 3 predicted classes:\n",
      "Proso: 0.72 probability\n",
      "Foxtail: 0.08 probability\n",
      "Wheat: 0.05 probability\n"
     ]
    },
    {
     "name": "stderr",
     "output_type": "stream",
     "text": [
      "C:\\Anaconda3\\Lib\\site-packages\\sklearn\\base.py:439: UserWarning: X does not have valid feature names, but StandardScaler was fitted with feature names\n",
      "  warnings.warn(\n",
      "C:\\Anaconda3\\Lib\\site-packages\\sklearn\\base.py:439: UserWarning: X does not have valid feature names, but StandardScaler was fitted with feature names\n",
      "  warnings.warn(\n"
     ]
    },
    {
     "data": {
      "text/plain": [
       "(array([0.01, 0.01, 0.08, 0.02, 0.05, 0.02, 0.02, 0.72, 0.02, 0.05]),\n",
       " array([7, 2, 9], dtype=int64))"
      ]
     },
     "execution_count": 1,
     "metadata": {},
     "output_type": "execute_result"
    }
   ],
   "source": [
    "import pandas as pd\n",
    "import seaborn as sns\n",
    "import matplotlib.pyplot as plt\n",
    "from imblearn.over_sampling import SMOTE\n",
    "from sklearn.preprocessing import StandardScaler\n",
    "from sklearn.model_selection import train_test_split\n",
    "from sklearn.ensemble import RandomForestClassifier\n",
    "from sklearn.metrics import accuracy_score, classification_report\n",
    "\n",
    "df=pd.read_csv(\"data2.csv\")\n",
    "\n",
    "df.head(10)\n",
    "\n",
    "# Splitting the data into features (X) and target (y)\n",
    "X = df.drop('MILLET', axis=1)\n",
    "y = df['MILLET']\n",
    "\n",
    "smote = SMOTE(sampling_strategy='auto', random_state=42)\n",
    "\n",
    "X_resampled, y_resampled = smote.fit_resample(X, y)\n",
    "\n",
    "# Initialize the StandardScaler\n",
    "scaler = StandardScaler()\n",
    "X_scaled = scaler.fit_transform(X)\n",
    "\n",
    "# Initialize the Random Forest Classifier\n",
    "model = RandomForestClassifier(n_estimators=100, random_state=42)\n",
    "\n",
    "# Training the model\n",
    "model.fit(X_scaled, y)\n",
    "\n",
    "# Making predictions on the test set\n",
    "y_pred = model.predict(X_scaled)\n",
    "\n",
    "accuracy = accuracy_score(y, y_pred)\n",
    "print(f\"Accuracy of the RFC model: {accuracy:.2f}\")\n",
    "\n",
    "# Splitting the data into training and testing sets (80% train, 20% test)\n",
    "X_train, X_test, y_train, y_test = train_test_split(X_scaled, y, test_size=0.2, random_state=42)\n",
    "\n",
    "# Initialize the Random Forest Classifier\n",
    "from sklearn.ensemble import RandomForestClassifier\n",
    "model2 = RandomForestClassifier(n_estimators=100, random_state=42)\n",
    "\n",
    "# Training the model\n",
    "model2.fit(X_train, y_train)\n",
    "\n",
    "# Making predictions on the test set\n",
    "y_pred2 = model.predict(X_test)\n",
    "\n",
    "# Calculating accuracy\n",
    "accuracy = accuracy_score(y_test, y_pred2)\n",
    "print(f\"Accuracy of the RFC model: {accuracy:.2f}\")\n",
    "\n",
    "def get_user_input():\n",
    "    # User input for prediction\n",
    "    protein = float(input(\"Enter Protein intake in grams: \"))\n",
    "    carbs = float(input(\"Enter Carbs intake in grams: \"))\n",
    "    fat = float(input(\"Enter Fat intake in grams: \"))\n",
    "    minerals = float(input(\"Enter Minerals intake in grams: \"))\n",
    "    fiber = float(input(\"Enter Fiber intake in grams: \"))\n",
    "    calcium = float(input(\"Enter Calcium intake in mg: \"))\n",
    "    phosphorus = float(input(\"Enter Phosphorus intake in mg: \"))\n",
    "    iron = float(input(\"Enter Iron intake in g: \"))\n",
    "    energy = float(input(\"Enter Energy intake in kcal: \"))\n",
    "    thiamin = float(input(\"Enter Thiamin intake in mg: \"))\n",
    "    niacin = float(input(\"Enter Niacin intake in mg: \"))\n",
    "    \n",
    "    # Return the inputs as a list\n",
    "    return [protein, carbs, fat, minerals, fiber, calcium, phosphorus, iron, energy, thiamin, niacin]\n",
    "\n",
    "user_ip = get_user_input()\n",
    "\n",
    "def predict_crop():\n",
    "    # Scale the user input using the same scaler\n",
    "    user_input = scaler.transform([user_ip])\n",
    "    predicted_crop = model2.predict(user_input)\n",
    "    print(f\"The predicted crop based on the input is: {predicted_crop[0]}\")\n",
    "    return predicted_crop\n",
    "\n",
    "predict_crop()\n",
    "\n",
    "def predict_top_three_millets():\n",
    "    # Scale the user input using the same scaler\n",
    "    user_input = scaler.transform([user_ip])\n",
    "\n",
    "    # Predict probabilities for each class\n",
    "    predicted_probabilities = model.predict_proba(user_input)[0]\n",
    "    \n",
    "    # Get the indices of the top three predicted classes\n",
    "    top_3_indices = predicted_probabilities.argsort()[-3:][::-1]\n",
    "\n",
    "    print(\"Top 3 predicted classes:\")\n",
    "    for index in top_3_indices:\n",
    "        print(f\"{model.classes_[index]}: {predicted_probabilities[index]:.2f} probability\")\n",
    "    return predicted_probabilities, top_3_indices\n",
    "\n",
    "predict_top_three_millets()\n",
    "5.2\n"
   ]
  }
 ],
 "metadata": {
  "kernelspec": {
   "display_name": "Python 3 (ipykernel)",
   "language": "python",
   "name": "python3"
  },
  "language_info": {
   "codemirror_mode": {
    "name": "ipython",
    "version": 3
   },
   "file_extension": ".py",
   "mimetype": "text/x-python",
   "name": "python",
   "nbconvert_exporter": "python",
   "pygments_lexer": "ipython3",
   "version": "3.11.7"
  }
 },
 "nbformat": 4,
 "nbformat_minor": 5
}
